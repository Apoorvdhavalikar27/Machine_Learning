{
 "cells": [
  {
   "cell_type": "code",
   "execution_count": 1,
   "metadata": {},
   "outputs": [],
   "source": [
    "import pandas as pd\n",
    "from sklearn.datasets import load_digits\n",
    "import matplotlib.pyplot as plt\n",
    "import numpy as np"
   ]
  },
  {
   "cell_type": "code",
   "execution_count": 2,
   "metadata": {},
   "outputs": [
    {
     "data": {
      "text/plain": [
       "['DESCR', 'data', 'feature_names', 'frame', 'images', 'target', 'target_names']"
      ]
     },
     "execution_count": 2,
     "metadata": {},
     "output_type": "execute_result"
    }
   ],
   "source": [
    "digits = load_digits()\n",
    "dir(digits)"
   ]
  },
  {
   "cell_type": "code",
   "execution_count": 3,
   "metadata": {},
   "outputs": [
    {
     "data": {
      "text/plain": [
       "array([ 0.,  0.,  5., 13.,  9.,  1.,  0.,  0.,  0.,  0., 13., 15., 10.,\n",
       "       15.,  5.,  0.,  0.,  3., 15.,  2.,  0., 11.,  8.,  0.,  0.,  4.,\n",
       "       12.,  0.,  0.,  8.,  8.,  0.,  0.,  5.,  8.,  0.,  0.,  9.,  8.,\n",
       "        0.,  0.,  4., 11.,  0.,  1., 12.,  7.,  0.,  0.,  2., 14.,  5.,\n",
       "       10., 12.,  0.,  0.,  0.,  0.,  6., 13., 10.,  0.,  0.,  0.])"
      ]
     },
     "execution_count": 3,
     "metadata": {},
     "output_type": "execute_result"
    }
   ],
   "source": [
    "digits.data[0]\n",
    "# This is the first image in dataset in array form"
   ]
  },
  {
   "cell_type": "code",
   "execution_count": 4,
   "metadata": {},
   "outputs": [
    {
     "data": {
      "text/plain": [
       "array([[ 0.,  0.,  5., 13.,  9.,  1.,  0.,  0.],\n",
       "       [ 0.,  0., 13., 15., 10., 15.,  5.,  0.],\n",
       "       [ 0.,  3., 15.,  2.,  0., 11.,  8.,  0.],\n",
       "       [ 0.,  4., 12.,  0.,  0.,  8.,  8.,  0.],\n",
       "       [ 0.,  5.,  8.,  0.,  0.,  9.,  8.,  0.],\n",
       "       [ 0.,  4., 11.,  0.,  1., 12.,  7.,  0.],\n",
       "       [ 0.,  2., 14.,  5., 10., 12.,  0.,  0.],\n",
       "       [ 0.,  0.,  6., 13., 10.,  0.,  0.,  0.]])"
      ]
     },
     "execution_count": 4,
     "metadata": {},
     "output_type": "execute_result"
    }
   ],
   "source": [
    "digits.images[0]\n",
    "# Images in dataset has 8*8 size"
   ]
  },
  {
   "cell_type": "code",
   "execution_count": 5,
   "metadata": {},
   "outputs": [],
   "source": [
    "def digit_images():\n",
    "    for i in range(5): \n",
    "        plt.gray()\n",
    "        plt.matshow(digits.images[i])\n",
    "        \n",
    "# gray() used to represent graph in b/w format.   \n",
    "# matshow used to represent array data in image form.\n",
    "        "
   ]
  },
  {
   "cell_type": "code",
   "execution_count": 6,
   "metadata": {},
   "outputs": [
    {
     "data": {
      "text/plain": [
       "<Figure size 432x288 with 0 Axes>"
      ]
     },
     "metadata": {},
     "output_type": "display_data"
    },
    {
     "data": {
      "image/png": "[encoded data removed]",
      "text/plain": [
       "<Figure size 288x288 with 1 Axes>"
      ]
     },
     "metadata": {
      "needs_background": "light"
     },
     "output_type": "display_data"
    },
    {
     "data": {
      "image/png": "[encoded data removed]",
      "text/plain": [
       "<Figure size 288x288 with 1 Axes>"
      ]
     },
     "metadata": {
      "needs_background": "light"
     },
     "output_type": "display_data"
    },
    {
     "data": {
      "image/png": "[encoded data removed]",
      "text/plain": [
       "<Figure size 288x288 with 1 Axes>"
      ]
     },
     "metadata": {
      "needs_background": "light"
     },
     "output_type": "display_data"
    },
    {
     "data": {
      "image/png": "[encoded data removed]",
      "text/plain": [
       "<Figure size 288x288 with 1 Axes>"
      ]
     },
     "metadata": {
      "needs_background": "light"
     },
     "output_type": "display_data"
    },
    {
     "data": {
      "image/png": "[encoded data removed]",
      "text/plain": [
       "<Figure size 288x288 with 1 Axes>"
      ]
     },
     "metadata": {
      "needs_background": "light"
     },
     "output_type": "display_data"
    }
   ],
   "source": [
    "digit_images()"
   ]
  },
  {
   "cell_type": "code",
   "execution_count": 7,
   "metadata": {},
   "outputs": [
    {
     "data": {
      "text/plain": [
       "array([0, 1, 2, 3, 4])"
      ]
     },
     "execution_count": 7,
     "metadata": {},
     "output_type": "execute_result"
    }
   ],
   "source": [
    "digits.target[0:5]\n",
    "# This gives the value of the images\n",
    "# i.e. first image is of digit 0 second is of 1 and so on....."
   ]
  },
  {
   "cell_type": "code",
   "execution_count": 8,
   "metadata": {},
   "outputs": [],
   "source": [
    "X = digits['data']\n",
    "y = digits['target']"
   ]
  },
  {
   "cell_type": "code",
   "execution_count": 9,
   "metadata": {},
   "outputs": [],
   "source": [
    "from sklearn.model_selection import train_test_split\n",
    "X_train,X_test,y_train,y_test = train_test_split(X,y,test_size = 0.2)"
   ]
  },
  {
   "cell_type": "code",
   "execution_count": 10,
   "metadata": {},
   "outputs": [
    {
     "data": {
      "text/plain": [
       "1437"
      ]
     },
     "execution_count": 10,
     "metadata": {},
     "output_type": "execute_result"
    }
   ],
   "source": [
    "len(X_train)"
   ]
  },
  {
   "cell_type": "code",
   "execution_count": 11,
   "metadata": {},
   "outputs": [
    {
     "name": "stderr",
     "output_type": "stream",
     "text": [
      "C:\\Users\\apoor\\anaconda3\\lib\\site-packages\\sklearn\\linear_model\\_logistic.py:763: ConvergenceWarning: lbfgs failed to converge (status=1):\n",
      "STOP: TOTAL NO. of ITERATIONS REACHED LIMIT.\n",
      "\n",
      "Increase the number of iterations (max_iter) or scale the data as shown in:\n",
      "    https://scikit-learn.org/stable/modules/preprocessing.html\n",
      "Please also refer to the documentation for alternative solver options:\n",
      "    https://scikit-learn.org/stable/modules/linear_model.html#logistic-regression\n",
      "  n_iter_i = _check_optimize_result(\n"
     ]
    },
    {
     "data": {
      "text/plain": [
       "LogisticRegression()"
      ]
     },
     "execution_count": 11,
     "metadata": {},
     "output_type": "execute_result"
    }
   ],
   "source": [
    "from sklearn.linear_model import LogisticRegression\n",
    "clf = LogisticRegression()\n",
    "clf.fit(X_train,y_train)"
   ]
  },
  {
   "cell_type": "code",
   "execution_count": 12,
   "metadata": {},
   "outputs": [
    {
     "data": {
      "text/plain": [
       "array([1, 1, 6, 5, 4, 4, 1, 6, 2, 0, 9, 9, 2, 2, 4, 8, 2, 7, 7, 1, 6, 9,\n",
       "       0, 7, 0, 9, 8, 1, 8, 1, 4, 2, 2, 6, 4, 6, 0, 0, 1, 3, 3, 5, 1, 5,\n",
       "       7, 8, 0, 4, 5, 2, 5, 9, 3, 0, 3, 1, 6, 8, 2, 7, 7, 4, 7, 6, 0, 2,\n",
       "       4, 9, 7, 3, 0, 3, 6, 6, 8, 4, 3, 7, 4, 1, 0, 2, 8, 9, 9, 9, 6, 3,\n",
       "       6, 7, 2, 8, 7, 7, 1, 5, 8, 6, 9, 1, 4, 5, 9, 9, 1, 9, 6, 7, 3, 4,\n",
       "       1, 7, 7, 1, 9, 8, 2, 6, 3, 6, 8, 8, 8, 3, 7, 5, 3, 1, 9, 5, 0, 3,\n",
       "       2, 7, 6, 6, 5, 9, 1, 8, 7, 6, 9, 3, 6, 4, 1, 9, 6, 2, 5, 5, 6, 4,\n",
       "       0, 7, 0, 5, 5, 3, 6, 4, 1, 2, 3, 8, 5, 1, 6, 4, 1, 8, 3, 6, 4, 1,\n",
       "       6, 2, 4, 7, 5, 1, 7, 5, 3, 8, 5, 4, 5, 1, 5, 9, 1, 3, 3, 1, 5, 6,\n",
       "       3, 4, 1, 7, 5, 0, 1, 2, 5, 7, 3, 8, 2, 1, 0, 2, 8, 4, 5, 4, 4, 1,\n",
       "       6, 6, 0, 8, 4, 8, 5, 9, 6, 7, 8, 1, 3, 9, 3, 8, 7, 9, 5, 4, 7, 7,\n",
       "       1, 4, 6, 0, 9, 5, 1, 9, 6, 1, 0, 5, 9, 5, 5, 6, 4, 2, 7, 7, 8, 0,\n",
       "       7, 6, 1, 8, 1, 2, 4, 9, 8, 2, 0, 4, 5, 6, 2, 0, 8, 8, 9, 6, 0, 2,\n",
       "       4, 0, 6, 0, 2, 3, 3, 8, 6, 3, 0, 2, 0, 8, 0, 9, 2, 7, 2, 9, 9, 1,\n",
       "       9, 8, 1, 2, 0, 6, 4, 9, 5, 1, 0, 3, 6, 3, 0, 7, 3, 5, 7, 3, 5, 5,\n",
       "       8, 7, 0, 0, 0, 5, 1, 7, 8, 3, 9, 5, 1, 3, 0, 9, 5, 8, 0, 8, 3, 4,\n",
       "       8, 2, 8, 1, 8, 2, 1, 3])"
      ]
     },
     "execution_count": 12,
     "metadata": {},
     "output_type": "execute_result"
    }
   ],
   "source": [
    "clf.predict(X_test)"
   ]
  },
  {
   "cell_type": "code",
   "execution_count": 13,
   "metadata": {},
   "outputs": [
    {
     "data": {
      "text/plain": [
       "<matplotlib.image.AxesImage at 0x2588866f2b0>"
      ]
     },
     "execution_count": 13,
     "metadata": {},
     "output_type": "execute_result"
    },
    {
     "data": {
      "image/png": "[encoded data removed]",
      "text/plain": [
       "<Figure size 288x288 with 1 Axes>"
      ]
     },
     "metadata": {
      "needs_background": "light"
     },
     "output_type": "display_data"
    }
   ],
   "source": [
    "plt.matshow(digits.images[5])\n",
    "# Sample value"
   ]
  },
  {
   "cell_type": "code",
   "execution_count": 14,
   "metadata": {},
   "outputs": [
    {
     "data": {
      "text/plain": [
       "5"
      ]
     },
     "execution_count": 14,
     "metadata": {},
     "output_type": "execute_result"
    }
   ],
   "source": [
    "digits.target[5]\n",
    "# Expected value"
   ]
  },
  {
   "cell_type": "code",
   "execution_count": 15,
   "metadata": {},
   "outputs": [
    {
     "data": {
      "text/plain": [
       "array([5])"
      ]
     },
     "execution_count": 15,
     "metadata": {},
     "output_type": "execute_result"
    }
   ],
   "source": [
    "clf.predict([digits.data[5]])\n",
    "# Predicted value"
   ]
  },
  {
   "cell_type": "code",
   "execution_count": 16,
   "metadata": {},
   "outputs": [
    {
     "data": {
      "text/plain": [
       "array([0, 1, 2, 3, 4])"
      ]
     },
     "execution_count": 16,
     "metadata": {},
     "output_type": "execute_result"
    }
   ],
   "source": [
    "clf.predict(digits.data[0:5])"
   ]
  },
  {
   "cell_type": "code",
   "execution_count": 17,
   "metadata": {},
   "outputs": [
    {
     "data": {
      "text/plain": [
       "0.9638888888888889"
      ]
     },
     "execution_count": 17,
     "metadata": {},
     "output_type": "execute_result"
    }
   ],
   "source": [
    "clf.score(X_test,y_test)"
   ]
  },
  {
   "cell_type": "code",
   "execution_count": 18,
   "metadata": {},
   "outputs": [
    {
     "data": {
      "text/plain": [
       "array([1, 1, 6, 5, 4, 4, 1, 6, 2, 0, 9, 9, 2, 2, 4, 8, 2, 7, 7, 1, 6, 9,\n",
       "       0, 7, 0, 9, 8, 1, 8, 1, 4, 2, 2, 6, 4, 6, 0, 0, 1, 3, 3, 5, 1, 5,\n",
       "       7, 8, 0, 4, 5, 2, 5, 9, 3, 0, 3, 1, 6, 8, 2, 7, 7, 4, 7, 6, 0, 2,\n",
       "       4, 9, 7, 3, 0, 3, 6, 6, 8, 4, 3, 7, 4, 1, 0, 2, 8, 9, 9, 9, 6, 3,\n",
       "       6, 7, 2, 8, 7, 7, 1, 5, 8, 6, 9, 1, 4, 5, 9, 9, 1, 9, 6, 7, 3, 4,\n",
       "       1, 7, 7, 1, 9, 8, 2, 6, 3, 6, 8, 8, 8, 3, 7, 5, 3, 1, 9, 5, 0, 3,\n",
       "       2, 7, 6, 6, 5, 9, 1, 8, 7, 6, 9, 3, 6, 4, 1, 9, 6, 2, 5, 5, 6, 4,\n",
       "       0, 7, 0, 5, 5, 3, 6, 4, 1, 2, 3, 8, 5, 1, 6, 4, 1, 8, 3, 6, 4, 1,\n",
       "       6, 2, 4, 7, 5, 1, 7, 5, 3, 8, 5, 4, 5, 1, 5, 9, 1, 3, 3, 1, 5, 6,\n",
       "       3, 4, 1, 7, 5, 0, 1, 2, 5, 7, 3, 8, 2, 1, 0, 2, 8, 4, 5, 4, 4, 1,\n",
       "       6, 6, 0, 8, 4, 8, 5, 9, 6, 7, 8, 1, 3, 9, 3, 8, 7, 9, 5, 4, 7, 7,\n",
       "       1, 4, 6, 0, 9, 5, 1, 9, 6, 1, 0, 5, 9, 5, 5, 6, 4, 2, 7, 7, 8, 0,\n",
       "       7, 6, 1, 8, 1, 2, 4, 9, 8, 2, 0, 4, 5, 6, 2, 0, 8, 8, 9, 6, 0, 2,\n",
       "       4, 0, 6, 0, 2, 3, 3, 8, 6, 3, 0, 2, 0, 8, 0, 9, 2, 7, 2, 9, 9, 1,\n",
       "       9, 8, 1, 2, 0, 6, 4, 9, 5, 1, 0, 3, 6, 3, 0, 7, 3, 5, 7, 3, 5, 5,\n",
       "       8, 7, 0, 0, 0, 5, 1, 7, 8, 3, 9, 5, 1, 3, 0, 9, 5, 8, 0, 8, 3, 4,\n",
       "       8, 2, 8, 1, 8, 2, 1, 3])"
      ]
     },
     "execution_count": 18,
     "metadata": {},
     "output_type": "execute_result"
    }
   ],
   "source": [
    "clf.predict(X_test)"
   ]
  },
  {
   "cell_type": "code",
   "execution_count": 19,
   "metadata": {},
   "outputs": [],
   "source": [
    "y_predicted = clf.predict(X_test)\n",
    "y_truth = y_test"
   ]
  },
  {
   "cell_type": "code",
   "execution_count": 20,
   "metadata": {},
   "outputs": [
    {
     "data": {
      "text/plain": [
       "array([[35,  0,  0,  0,  0,  0,  0,  0,  0,  0],\n",
       "       [ 0, 40,  0,  0,  0,  0,  0,  0,  1,  0],\n",
       "       [ 0,  1, 30,  0,  0,  0,  0,  0,  0,  0],\n",
       "       [ 0,  0,  0, 35,  0,  2,  0,  0,  1,  0],\n",
       "       [ 0,  0,  0,  0, 31,  0,  0,  1,  0,  0],\n",
       "       [ 0,  0,  0,  0,  0, 35,  1,  0,  0,  0],\n",
       "       [ 0,  1,  0,  0,  0,  0, 38,  0,  0,  0],\n",
       "       [ 0,  0,  0,  0,  0,  0,  0, 33,  0,  0],\n",
       "       [ 0,  1,  1,  0,  1,  1,  0,  1, 36,  0],\n",
       "       [ 0,  0,  0,  0,  0,  0,  0,  0,  0, 34]], dtype=int64)"
      ]
     },
     "execution_count": 20,
     "metadata": {},
     "output_type": "execute_result"
    }
   ],
   "source": [
    "# A Confusion matrix is an N x N matrix used for evaluating the performance of a classification model,\n",
    "# where N is the number of target classes.The matrix compares the actual target \n",
    "# values with those predicted by the machine learning model.\n",
    "# here we compare y_test and y_predicted values\n",
    "from sklearn.metrics import confusion_matrix \n",
    "cm = confusion_matrix(y_truth,y_predicted)\n",
    "cm"
   ]
  },
  {
   "cell_type": "code",
   "execution_count": 21,
   "metadata": {},
   "outputs": [
    {
     "data": {
      "text/plain": [
       "Text(33.0, 0.5, 'Truth')"
      ]
     },
     "execution_count": 21,
     "metadata": {},
     "output_type": "execute_result"
    },
    {
     "data": {
      "image/png": "[encoded data removed]",
      "text/plain": [
       "<Figure size 432x288 with 2 Axes>"
      ]
     },
     "metadata": {
      "needs_background": "light"
     },
     "output_type": "display_data"
    }
   ],
   "source": [
    "import seaborn as sn\n",
    "sn.heatmap(cm,annot=True)\n",
    "plt.xlabel('Predicted')\n",
    "plt.ylabel('Truth')"
   ]
  },
  {
   "cell_type": "code",
   "execution_count": 22,
   "metadata": {},
   "outputs": [],
   "source": [
    "# Here numbers in blackbox are the wrong predictions and diagonal elements are correctly predicted values"
   ]
  },
  {
   "cell_type": "code",
   "execution_count": null,
   "metadata": {},
   "outputs": [],
   "source": []
  }
 ],
 "metadata": {
  "kernelspec": {
   "display_name": "Python 3",
   "language": "python",
   "name": "python3"
  },
  "language_info": {
   "codemirror_mode": {
    "name": "ipython",
    "version": 3
   },
   "file_extension": ".py",
   "mimetype": "text/x-python",
   "name": "python",
   "nbconvert_exporter": "python",
   "pygments_lexer": "ipython3",
   "version": "3.8.5"
  }
 },
 "nbformat": 4,
 "nbformat_minor": 4
}
